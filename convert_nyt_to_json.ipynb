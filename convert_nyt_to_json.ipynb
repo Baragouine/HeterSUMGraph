{
 "cells": [
  {
   "attachments": {},
   "cell_type": "markdown",
   "metadata": {},
   "source": [
    "# Convert NYT to json"
   ]
  },
  {
   "cell_type": "code",
   "execution_count": 1,
   "metadata": {},
   "outputs": [],
   "source": [
    "# Import\n",
    "import tarfile\n",
    "import os\n",
    "import shutil\n",
    "import glob\n",
    "import xml.etree.ElementTree as ET\n",
    "import pandas as pd"
   ]
  },
  {
   "cell_type": "code",
   "execution_count": 2,
   "metadata": {},
   "outputs": [],
   "source": [
    "# Extract a zip file, return the output folder name\n",
    "def extract_zip(zip_name):\n",
    "  # output folder name\n",
    "  output_folder = zip_name.split(\".\")[-2]\n",
    "  # remove old output folder\n",
    "  if os.path.exists(output_folder):\n",
    "    shutil.rmtree(output_folder)\n",
    "  # Extract zip\n",
    "  nytzipf = tarfile.open(zip_name)\n",
    "  nytzipf.extractall(output_folder)\n",
    "  nytzipf.close()\n",
    "  return output_folder"
   ]
  },
  {
   "cell_type": "code",
   "execution_count": 3,
   "metadata": {},
   "outputs": [],
   "source": [
    "# Extract zip\n",
    "main_folder = extract_zip(os.path.join(\"data\", \"nyt_corpus_LDC2008T19.tgz\"))"
   ]
  },
  {
   "cell_type": "code",
   "execution_count": 4,
   "metadata": {},
   "outputs": [],
   "source": [
    "# data folder\n",
    "data_folder = os.path.join(main_folder, \"nyt_corpus\", \"data\")"
   ]
  },
  {
   "cell_type": "code",
   "execution_count": 5,
   "metadata": {},
   "outputs": [],
   "source": [
    "# list of all sub zip data/year/month.zip (data/YYYY/MM.zip)\n",
    "zip_files = glob.glob(os.path.join(data_folder, \"*\", \"*.tgz\"))\n",
    "zip_files.sort()"
   ]
  },
  {
   "cell_type": "code",
   "execution_count": 6,
   "metadata": {},
   "outputs": [],
   "source": [
    "# text and abstract lists\n",
    "docs = []\n",
    "summaries = []\n",
    "paths = []"
   ]
  },
  {
   "cell_type": "code",
   "execution_count": 7,
   "metadata": {},
   "outputs": [],
   "source": [
    "# For each zip\n",
    "for zip_file in zip_files:\n",
    "  month_f = extract_zip(zip_file)\n",
    "  xmls = glob.glob(os.path.join(month_f, \"*\", \"*\", \"*.xml\"))\n",
    "  xmls.sort()\n",
    "  for xml in xmls:\n",
    "    tree = ET.parse(xml)\n",
    "    root = tree.getroot()\n",
    "    abstract = root.find(\".//abstract\")\n",
    "    if abstract is not None:\n",
    "      full_text_balise = root.find('.//block[@class=\"full_text\"]')\n",
    "      if full_text_balise is not None:\n",
    "        paths.append(xml)\n",
    "        summaries.append(ET.tostring(abstract, encoding=\"utf-8\").decode(\"utf-8\"))\n",
    "        docs.append(ET.tostring(full_text_balise, encoding=\"utf-8\").decode(\"utf-8\"))"
   ]
  },
  {
   "cell_type": "code",
   "execution_count": 8,
   "metadata": {},
   "outputs": [
    {
     "data": {
      "text/plain": [
       "654872"
      ]
     },
     "execution_count": 8,
     "metadata": {},
     "output_type": "execute_result"
    }
   ],
   "source": [
    "# number of entries\n",
    "len(docs)"
   ]
  },
  {
   "cell_type": "code",
   "execution_count": 9,
   "metadata": {},
   "outputs": [],
   "source": [
    "# save panda dataframe to json\n",
    "df = pd.DataFrame(data={\"paths\": paths, \"docs\": docs, \"summaries\": summaries})"
   ]
  },
  {
   "cell_type": "code",
   "execution_count": 10,
   "metadata": {},
   "outputs": [],
   "source": [
    "import re\n",
    "re_html = re.compile(r'<[^>]+>')\n",
    "df[\"docs\"] = df[\"docs\"].apply(lambda x : re_html.sub('', x))\n",
    "df[\"summaries\"] = df[\"summaries\"].apply(lambda x : re_html.sub('', x))"
   ]
  },
  {
   "cell_type": "code",
   "execution_count": 11,
   "metadata": {},
   "outputs": [],
   "source": [
    "df.to_json(main_folder + \".json\")"
   ]
  },
  {
   "cell_type": "code",
   "execution_count": null,
   "metadata": {},
   "outputs": [],
   "source": []
  }
 ],
 "metadata": {
  "kernelspec": {
   "display_name": "base",
   "language": "python",
   "name": "python3"
  },
  "language_info": {
   "codemirror_mode": {
    "name": "ipython",
    "version": 3
   },
   "file_extension": ".py",
   "mimetype": "text/x-python",
   "name": "python",
   "nbconvert_exporter": "python",
   "pygments_lexer": "ipython3",
   "version": "3.9.13"
  },
  "orig_nbformat": 4,
  "vscode": {
   "interpreter": {
    "hash": "6d7f428a150b92572ac46240b6d7ae68586908362b054f21341550673eeb77dc"
   }
  }
 },
 "nbformat": 4,
 "nbformat_minor": 2
}
