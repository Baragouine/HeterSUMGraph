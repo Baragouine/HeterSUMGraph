{
 "cells": [
  {
   "attachments": {},
   "cell_type": "markdown",
   "metadata": {},
   "source": [
    "# Compute NYT labels"
   ]
  },
  {
   "cell_type": "code",
   "execution_count": 1,
   "metadata": {},
   "outputs": [],
   "source": [
    "import pandas as pd\n",
    "import json\n",
    "import os\n",
    "from rouge_score import rouge_scorer\n",
    "from nltk.tokenize import LineTokenizer, sent_tokenize, word_tokenize\n",
    "from nltk.corpus import stopwords\n",
    "from nltk.stem.porter import PorterStemmer\n",
    "import re\n",
    "import concurrent.futures"
   ]
  },
  {
   "cell_type": "code",
   "execution_count": 2,
   "metadata": {},
   "outputs": [],
   "source": [
    "scorer = rouge_scorer.RougeScorer(['rouge1', 'rouge2', 'rougeL'], use_stemmer=True)\n",
    "\n",
    "# regex\n",
    "re_html = re.compile(r'<[^>]+>')"
   ]
  },
  {
   "cell_type": "code",
   "execution_count": 3,
   "metadata": {},
   "outputs": [],
   "source": [
    "# Compute labels\n",
    "def compute_labels(doc, summary, is_sep_n = False):\n",
    "  global re_html\n",
    "  labels = []\n",
    "  s = []\n",
    "  # remove html tags\n",
    "  doc = re_html.sub('', doc)\n",
    "  summary = re_html.sub('', summary)\n",
    "  # split doc\n",
    "  if is_sep_n:\n",
    "    nltk_line_tokenizer = LineTokenizer()\n",
    "    s = nltk_line_tokenizer.tokenize(doc)\n",
    "  else:\n",
    "    s = sent_tokenize(doc)\n",
    "  # compute labels\n",
    "  if (len(s) > 0):\n",
    "    a = \"\"\n",
    "    score = scorer.score(a, summary)\n",
    "    for i in range(len(s)):\n",
    "      current_score = scorer.score(a + s[i] + \".\", summary)\n",
    "      if  current_score[\"rouge1\"].fmeasure > score[\"rouge1\"].fmeasure or \\\n",
    "        current_score[\"rouge2\"].fmeasure > score[\"rouge2\"].fmeasure or \\\n",
    "        current_score[\"rougeL\"].fmeasure > score[\"rougeL\"].fmeasure:\n",
    "        score = current_score\n",
    "        a = a + s[i] + \".\"\n",
    "        labels.append(1)\n",
    "      else:\n",
    "        labels.append(0)\n",
    "\n",
    "  return labels"
   ]
  },
  {
   "cell_type": "code",
   "execution_count": 4,
   "metadata": {},
   "outputs": [],
   "source": [
    "# compute labels for dataframe\n",
    "def compute_labels_df(df):\n",
    "  labels = []\n",
    "  for idx in df.index:\n",
    "    labels.append(compute_labels(df[\"docs\"][idx], df[\"summaries\"][idx], is_sep_n = False))\n",
    "  return labels"
   ]
  },
  {
   "cell_type": "code",
   "execution_count": 5,
   "metadata": {},
   "outputs": [],
   "source": [
    "# load dataset\n",
    "df = pd.read_json(\"./data/nyt_corpus_LDC2008T19_50.json\")"
   ]
  },
  {
   "cell_type": "code",
   "execution_count": 6,
   "metadata": {},
   "outputs": [],
   "source": [
    "lbls = compute_labels_df(df)\n",
    "df[\"labels\"] = lbls"
   ]
  },
  {
   "cell_type": "code",
   "execution_count": 7,
   "metadata": {},
   "outputs": [],
   "source": [
    "df.to_json(\"./data/nyt_corpus_LDC2008T19_50.json\")"
   ]
  },
  {
   "cell_type": "code",
   "execution_count": 8,
   "metadata": {},
   "outputs": [],
   "source": [
    "df = pd.read_json(\"./data/nyt_corpus_LDC2008T19_50.json\")"
   ]
  },
  {
   "cell_type": "code",
   "execution_count": null,
   "metadata": {},
   "outputs": [],
   "source": []
  }
 ],
 "metadata": {
  "kernelspec": {
   "display_name": "base",
   "language": "python",
   "name": "python3"
  },
  "language_info": {
   "codemirror_mode": {
    "name": "ipython",
    "version": 3
   },
   "file_extension": ".py",
   "mimetype": "text/x-python",
   "name": "python",
   "nbconvert_exporter": "python",
   "pygments_lexer": "ipython3",
   "version": "3.9.13"
  },
  "orig_nbformat": 4,
  "vscode": {
   "interpreter": {
    "hash": "6d7f428a150b92572ac46240b6d7ae68586908362b054f21341550673eeb77dc"
   }
  }
 },
 "nbformat": 4,
 "nbformat_minor": 2
}
